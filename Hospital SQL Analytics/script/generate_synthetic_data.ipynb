{
 "cells": [
  {
   "cell_type": "code",
   "execution_count": 6,
   "id": "87544119-11b3-4d8c-92a6-d56fa88b6744",
   "metadata": {},
   "outputs": [
    {
     "name": "stdout",
     "output_type": "stream",
     "text": [
      "Collecting faker\n",
      "  Downloading faker-37.4.0-py3-none-any.whl.metadata (15 kB)\n",
      "Requirement already satisfied: tzdata in e:\\anaconda\\lib\\site-packages (from faker) (2023.3)\n",
      "Downloading faker-37.4.0-py3-none-any.whl (1.9 MB)\n",
      "   ---------------------------------------- 0.0/1.9 MB ? eta -:--:--\n",
      "   ----- ---------------------------------- 0.3/1.9 MB ? eta -:--:--\n",
      "   ---------- ----------------------------- 0.5/1.9 MB 1.7 MB/s eta 0:00:01\n",
      "   ---------------- ----------------------- 0.8/1.9 MB 1.8 MB/s eta 0:00:01\n",
      "   -------------------------- ------------- 1.3/1.9 MB 1.9 MB/s eta 0:00:01\n",
      "   ------------------------------------- -- 1.8/1.9 MB 2.1 MB/s eta 0:00:01\n",
      "   ---------------------------------------- 1.9/1.9 MB 1.9 MB/s eta 0:00:00\n",
      "Installing collected packages: faker\n",
      "Successfully installed faker-37.4.0\n"
     ]
    }
   ],
   "source": [
    "!pip install faker\n"
   ]
  },
  {
   "cell_type": "code",
   "execution_count": 29,
   "id": "c42c8955-50bd-4a84-8ed1-493205141cca",
   "metadata": {},
   "outputs": [],
   "source": [
    "import pandas as pd\n",
    "import random\n",
    "from faker import Faker\n",
    "import numpy as np\n",
    "from datetime import timedelta"
   ]
  },
  {
   "cell_type": "code",
   "execution_count": 12,
   "id": "21dafe62-a4c1-4d14-9d5a-d6352e016552",
   "metadata": {},
   "outputs": [],
   "source": [
    "# Setup\n",
    "fake = Faker()\n",
    "random.seed(42)\n",
    "np.random.seed(42)"
   ]
  },
  {
   "cell_type": "markdown",
   "id": "1d668a7d-52ca-4f4d-8605-5d4e73709895",
   "metadata": {},
   "source": [
    "# Create's patients CSV"
   ]
  },
  {
   "cell_type": "code",
   "execution_count": 14,
   "id": "34bd2ffa-ca6a-439e-9046-0fc2282f4d0d",
   "metadata": {},
   "outputs": [],
   "source": [
    "# Constants\n",
    "NUM_PATIENTS = 10000\n",
    "genders = [\"Male\", \"Female\", \"Other\"]\n",
    "regions = [\"North America\", \"South America\", \"Europe\", \"Asia\", \"Africa\", \"Australia\"]\n",
    "chronic_conditions_list = [\n",
    "    \"Diabetes\", \"Hypertension\", \"COPD\", \"Heart Disease\", \n",
    "    \"Asthma\", \"Kidney Disease\", \"Cancer\", \"Obesity\", \n",
    "    \"Depression\", \"Arthritis\", \"None\"\n",
    "]\n",
    "\n",
    "# Generate data\n",
    "data = []\n",
    "for pid in range(1, NUM_PATIENTS + 1):\n",
    "    gender = random.choice(genders)\n",
    "    age = random.randint(18, 90)\n",
    "    region = random.choice(regions)\n",
    "    count = np.random.choice([0, 1, 2, 3], p=[0.2, 0.4, 0.3, 0.1])\n",
    "    conditions = random.sample([c for c in chronic_conditions_list if c != \"None\"], count) if count else [\"None\"]\n",
    "    chronic = \",\".join(conditions)\n",
    "    data.append([pid, gender, age, region, chronic])\n",
    "\n",
    "# Save to CSV\n",
    "df = pd.DataFrame(data, columns=[\"patient_id\", \"gender\", \"age\", \"region\", \"chronic_conditions\"])\n",
    "df.to_csv(\"patients.csv\", index=False)\n",
    "print(\"✅ patients.csv generated successfully!\")\n",
    "# Save to CSV\n",
    "df = pd.DataFrame(data, columns=[\"patient_id\", \"gender\", \"age\", \"region\", \"chronic_conditions\"])\n",
    "df.to_csv(\"patients.csv\", index=False)\n",
    "print(\"✅ patients.csv generated successfully!\")\n"
   ]
  },
  {
   "cell_type": "markdown",
   "id": "0a6c69b2-0b86-48f3-86c6-55316ef786f1",
   "metadata": {},
   "source": [
    "# Create's doctor CSV"
   ]
  },
  {
   "cell_type": "code",
   "execution_count": 22,
   "id": "d2dbfd69-b51e-4893-b335-d9796abbcd8b",
   "metadata": {},
   "outputs": [
    {
     "name": "stdout",
     "output_type": "stream",
     "text": [
      "✅ doctors.csv has been created successfully.\n"
     ]
    }
   ],
   "source": [
    "# Constants\n",
    "NUM_DOCTORS = 500\n",
    "departments = [\n",
    "    \"Cardiology\", \"Neurology\", \"Orthopedics\", \"Oncology\", \"Pediatrics\",\n",
    "    \"General Medicine\", \"Endocrinology\", \"Gastroenterology\", \"Urology\", \"Psychiatry\"\n",
    "]\n",
    "\n",
    "# Generate doctor data\n",
    "doctors = []\n",
    "for doc_id in range(1, NUM_DOCTORS + 1):\n",
    "    name = fake.name()\n",
    "    department = random.choice(departments)\n",
    "    experience_years = random.randint(1, 40)\n",
    "    doctors.append([doc_id, name, department, experience_years])\n",
    "\n",
    "# Create DataFrame\n",
    "df_doctors = pd.DataFrame(doctors, columns=[\"doctor_id\", \"name\", \"department\", \"experience_years\"])\n",
    "\n",
    "# Save to CSV\n",
    "df_doctors.to_csv(\"doctors.csv\", index=False)\n",
    "\n",
    "print(\"✅ doctors.csv has been created successfully.\")"
   ]
  },
  {
   "cell_type": "markdown",
   "id": "09d1c0d5-28dc-4223-90cb-af747ffa1769",
   "metadata": {},
   "source": [
    "# Create's admission CSV"
   ]
  },
  {
   "cell_type": "code",
   "execution_count": 46,
   "id": "b5d4146d-5b6a-42d2-8d71-7a102f7d60ed",
   "metadata": {},
   "outputs": [
    {
     "name": "stdout",
     "output_type": "stream",
     "text": [
      "✅ admissions.csv regenerated successfully.\n"
     ]
    }
   ],
   "source": [
    "# Constants\n",
    "NUM_ADMISSIONS = 25000\n",
    "patient_ids = list(range(1, 10001))   # Assuming 10,000 patients\n",
    "doctor_ids = list(range(1, 501))      # Assuming 500 doctors\n",
    "departments = [\"Cardiology\", \"Neurology\", \"Oncology\", \"Orthopedics\", \"Pediatrics\", \"Dermatology\"]\n",
    "\n",
    "# Generate admissions data\n",
    "admissions = []\n",
    "\n",
    "for admission_id in range(1, NUM_ADMISSIONS + 1):\n",
    "    patient_id = random.choice(patient_ids)\n",
    "    doctor_id = random.choice(doctor_ids)\n",
    "    admission_date = fake.date_between(start_date='-2y', end_date='-30d')\n",
    "    discharge_date = fake.date_between(start_date=admission_date, end_date='today')\n",
    "    department = random.choice(departments)\n",
    "    readmitted = random.choices([0, 1], weights=[85, 15])[0]  # Use 0/1 instead of True/False\n",
    "\n",
    "    admissions.append([\n",
    "        admission_id,\n",
    "        patient_id,\n",
    "        doctor_id,\n",
    "        admission_date,\n",
    "        discharge_date,\n",
    "        department,\n",
    "        readmitted\n",
    "    ])\n",
    "\n",
    "# Create DataFrame and export to CSV\n",
    "df_admissions = pd.DataFrame(admissions, columns=[\n",
    "    \"admission_id\",\n",
    "    \"patient_id\",\n",
    "    \"doctor_id\",\n",
    "    \"admission_date\",\n",
    "    \"discharge_date\",\n",
    "    \"department\",\n",
    "    \"readmitted_within_30_days\"\n",
    "])\n",
    "\n",
    "df_admissions.to_csv(\"admissions.csv\", index=False)\n",
    "print(\"✅ admissions.csv regenerated successfully.\")"
   ]
  },
  {
   "cell_type": "markdown",
   "id": "c229e889-d1a1-418e-b2e2-9dc1e7efb943",
   "metadata": {},
   "source": [
    "# Create's diagnose CSV"
   ]
  },
  {
   "cell_type": "code",
   "execution_count": 41,
   "id": "330bd86d-a404-4f2f-a743-d5d69a93da0f",
   "metadata": {},
   "outputs": [
    {
     "name": "stdout",
     "output_type": "stream",
     "text": [
      "✅ diagnoses.csv created successfully.\n"
     ]
    }
   ],
   "source": [
    "# Constants\n",
    "NUM_DIAGNOSES = 50000\n",
    "admission_ids = list(range(1, 25001))  # Match with 25,000 admissions\n",
    "\n",
    "# ICD-10 code pool\n",
    "icd10_codes = [\n",
    "    (\"E11.9\", \"Type 2 diabetes mellitus\"),\n",
    "    (\"I10\", \"Essential hypertension\"),\n",
    "    (\"J45.909\", \"Unspecified asthma\"),\n",
    "    (\"C50.919\", \"Malignant neoplasm of breast\"),\n",
    "    (\"M54.5\", \"Low back pain\"),\n",
    "    (\"F32.9\", \"Major depressive disorder\"),\n",
    "    (\"N18.9\", \"Chronic kidney disease\"),\n",
    "    (\"R10.9\", \"Unspecified abdominal pain\"),\n",
    "    (\"J44.9\", \"Chronic obstructive pulmonary disease\"),\n",
    "    (\"E66.9\", \"Obesity, unspecified\"),\n",
    "    (\"G40.909\", \"Epilepsy, unspecified\")\n",
    "]\n",
    "\n",
    "# Generate diagnoses\n",
    "diagnoses = []\n",
    "for diag_id in range(1, NUM_DIAGNOSES + 1):\n",
    "    admission_id = random.choice(admission_ids)\n",
    "    code, description = random.choice(icd10_codes)\n",
    "    diagnoses.append([diag_id, admission_id, code, description])\n",
    "\n",
    "# Create DataFrame and export\n",
    "df_diagnoses = pd.DataFrame(diagnoses, columns=[\n",
    "    \"diagnosis_id\", \"admission_id\", \"diagnosis_code\", \"diagnosis_description\"\n",
    "])\n",
    "\n",
    "df_diagnoses.to_csv(\"diagnoses.csv\", index=False)\n",
    "print(\"✅ diagnoses.csv created successfully.\")\n"
   ]
  },
  {
   "cell_type": "markdown",
   "id": "9e3fac54-ff64-43ad-ae99-2a526450e5a4",
   "metadata": {},
   "source": [
    "# Create's labs CSV"
   ]
  },
  {
   "cell_type": "code",
   "execution_count": 44,
   "id": "2ad906e1-5220-4fcf-8c86-11bf78a5cb44",
   "metadata": {},
   "outputs": [
    {
     "name": "stdout",
     "output_type": "stream",
     "text": [
      "✅ labs.csv generated successfully.\n"
     ]
    }
   ],
   "source": [
    "# Constants\n",
    "NUM_LABS = 100000\n",
    "admission_ids = list(range(1, 25001))  # 25,000 admissions\n",
    "lab_tests = [\n",
    "    \"Blood Glucose\", \"Hemoglobin\", \"Cholesterol\", \"Creatinine\", \n",
    "    \"Blood Pressure\", \"WBC Count\", \"RBC Count\", \"Platelet Count\", \n",
    "    \"Electrolytes\", \"Thyroid Panel\"\n",
    "]\n",
    "\n",
    "# Value ranges\n",
    "value_ranges = {\n",
    "    \"Blood Glucose\": (70, 200),\n",
    "    \"Hemoglobin\": (11, 18),\n",
    "    \"Cholesterol\": (100, 300),\n",
    "    \"Creatinine\": (0.6, 2.0),\n",
    "    \"Blood Pressure\": (90, 180),\n",
    "    \"WBC Count\": (4000, 11000),\n",
    "    \"RBC Count\": (3.5, 6.0),\n",
    "    \"Platelet Count\": (150000, 400000),\n",
    "    \"Electrolytes\": (130, 150),\n",
    "    \"Thyroid Panel\": (0.4, 4.5)\n",
    "}\n",
    "\n",
    "# Generate data\n",
    "labs = []\n",
    "for lab_id in range(1, NUM_LABS + 1):\n",
    "    admission_id = random.choice(admission_ids)\n",
    "    test = random.choice(lab_tests)\n",
    "    value = round(random.uniform(*value_ranges[test]), 2)\n",
    "    test_date = fake.date_between(start_date='-2y', end_date='today')\n",
    "    labs.append([lab_id, admission_id, test, value, test_date])\n",
    "\n",
    "# Create DataFrame and save\n",
    "df_labs = pd.DataFrame(labs, columns=[\"lab_id\", \"admission_id\", \"test_name\", \"test_value\", \"test_date\"])\n",
    "df_labs.to_csv(\"labs.csv\", index=False)\n",
    "\n",
    "print(\"✅ labs.csv generated successfully.\")"
   ]
  },
  {
   "cell_type": "code",
   "execution_count": null,
   "id": "fa7e5e04-2ffa-4772-aef8-d3bbacb67582",
   "metadata": {},
   "outputs": [],
   "source": []
  }
 ],
 "metadata": {
  "kernelspec": {
   "display_name": "Python [conda env:base] *",
   "language": "python",
   "name": "conda-base-py"
  },
  "language_info": {
   "codemirror_mode": {
    "name": "ipython",
    "version": 3
   },
   "file_extension": ".py",
   "mimetype": "text/x-python",
   "name": "python",
   "nbconvert_exporter": "python",
   "pygments_lexer": "ipython3",
   "version": "3.12.7"
  }
 },
 "nbformat": 4,
 "nbformat_minor": 5
}
